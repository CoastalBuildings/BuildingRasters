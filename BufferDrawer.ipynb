{
 "cells": [
  {
   "cell_type": "code",
   "execution_count": null,
   "id": "954c9555",
   "metadata": {},
   "outputs": [],
   "source": [
    "import folium\n",
    "from folium.plugins import Draw\n",
    "import ogr, os\n",
    "from IPython.display import Image\n",
    "from shapely.geometry import mapping, shape\n",
    "from shapely.geometry import box as shBox\n",
    "import rasterio\n",
    "import pandas as pd\n",
    "import geopandas as gpd\n",
    "import gdal\n",
    "from shapely.geometry import Polygon\n",
    "from shapely.geometry import mapping, LineString, MultiLineString\n",
    "import shapefile\n",
    "\n",
    "#Needed external file: download US coast outline from: https://geodata.lib.berkeley.edu/catalog/stanford-xv279yj9196\n",
    "\n",
    "#Footprint data\n",
    "foot= '.../'\n",
    "#ROI name\n",
    "roi=\"NorthCarolina\"\n",
    "#Set buffer distance in decimal degreees\n",
    "dist=0.01\n",
    "\n",
    "\n",
    "\n",
    "#Use Folium to draw bounding box, click export and save once done.\n",
    "world=folium.Map(location=[36.1487072100852, -75.73136858295845], zoom_start=9, tiles='Stamen Terrain')\n",
    "draw= Draw(export=True,\n",
    "           filename='tempbounds.geojson')\n",
    "draw.add_to(world)\n",
    "world\n"
   ]
  },
  {
   "cell_type": "code",
   "execution_count": null,
   "id": "6c53a84a",
   "metadata": {},
   "outputs": [],
   "source": [
    "bounds='.../Downloads/tempbounds.geojson'\n",
    "\n",
    "#Import Line file of US Coast:\n",
    "US_cst= gpd.read_file('.../usa_coastl.shp')#Downloaded file from https://geodata.lib.berkeley.edu/catalog/stanford-xv279yj9196\n",
    "US_cst=US_cst.to_crs('EPSG:4326')\n",
    "\n",
    "\n",
    "\n",
    "bnd=gpd.read_file(bounds)\n",
    "bnd=bnd.set_crs('EPSG:4326')\n",
    "\n",
    "#clip coastal polyline\n",
    "roi_coast=geopandas.clip(US_cst,bnd)\n",
    "roi_coast=roi_coast.to_crs('EPSG:4326')\n",
    "buffer=roi_coast.buffer(dist)\n",
    "\n",
    "print('buffer created')\n",
    "\n",
    "json=gpd.GeoDataFrame(gpd.read_file(foot))\n",
    "json_clipped = geopandas.clip(json, buffer)\n",
    "json_clipped.to_file('.../ROI_Bldgs.geojson', driver='GeoJSON')"
   ]
  }
 ],
 "metadata": {
  "kernelspec": {
   "display_name": "Python 3",
   "language": "python",
   "name": "python3"
  },
  "language_info": {
   "codemirror_mode": {
    "name": "ipython",
    "version": 3
   },
   "file_extension": ".py",
   "mimetype": "text/x-python",
   "name": "python",
   "nbconvert_exporter": "python",
   "pygments_lexer": "ipython3",
   "version": "3.8.10"
  }
 },
 "nbformat": 4,
 "nbformat_minor": 5
}
