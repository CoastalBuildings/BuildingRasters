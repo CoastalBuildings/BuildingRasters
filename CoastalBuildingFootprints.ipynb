{
 "cells": [
  {
   "cell_type": "code",
   "execution_count": 8,
   "metadata": {},
   "outputs": [
    {
     "name": "stdout",
     "output_type": "stream",
     "text": [
      "Select Infrastructure Type, Source, and State of Interest Below:\n"
     ]
    },
    {
     "data": {
      "application/vnd.jupyter.widget-view+json": {
       "model_id": "df1395f471304c14bf695eb7de1ebc36",
       "version_major": 2,
       "version_minor": 0
      },
      "text/plain": [
       "interactive(children=(Select(description='Source', options=('Open Street Maps', 'MS Building Footprints'), val…"
      ]
     },
     "metadata": {},
     "output_type": "display_data"
    },
    {
     "data": {
      "application/vnd.jupyter.widget-view+json": {
       "model_id": "c9901783da0b4ef497e9e6fd0f170313",
       "version_major": 2,
       "version_minor": 0
      },
      "text/plain": [
       "interactive(children=(Select(description='State', options=('North Carolina', 'South Carolina'), value='North C…"
      ]
     },
     "metadata": {},
     "output_type": "display_data"
    },
    {
     "name": "stdout",
     "output_type": "stream",
     "text": [
      "Draw your coastal bounds region of interest in your chosen State within next cell. Once drawing is complete, run the cell after to download your file. This may take a while as source files are large.\n"
     ]
    }
   ],
   "source": [
    "import ipyleaflet\n",
    "import ogr, os\n",
    "import pandas as pd\n",
    "import geopandas as gpd\n",
    "import shapefile\n",
    "import json \n",
    "from ipyleaflet import (\n",
    "    Map,\n",
    "    Marker,\n",
    "    TileLayer, ImageOverlay,\n",
    "    Polyline, Polygon, Rectangle, Circle, CircleMarker,\n",
    "    GeoJSON,\n",
    "    DrawControl, basemaps, basemap_to_tiles\n",
    ")\n",
    "\n",
    "import pyproj\n",
    "from shapely.ops import transform\n",
    "from shapely.geometry import Polygon\n",
    "from urllib.request import urlopen\n",
    "from io import BytesIO\n",
    "from zipfile import ZipFile\n",
    "\n",
    "from IPython.html import widgets\n",
    "from IPython.display import display\n",
    "import osmnx as ox\n",
    "from tkinter import filedialog\n",
    "from tkinter import *\n",
    "root = Tk()\n",
    "root.withdraw()\n",
    "out = filedialog.askdirectory()\n",
    "\n",
    "\n",
    "geo={'Open Street Maps':['North Carolina','South Carolina'],'MS Building Footprints':['North Carolina','South Carolina']}\n",
    "\n",
    "print('Select Infrastructure Type, Source, and State of Interest Below:')\n",
    "\n",
    "\n",
    "def print_State(State):\n",
    "    print (State)\n",
    "\n",
    "def select_State(Source):\n",
    "    StateW.options = geo[Source]\n",
    "\n",
    "\n",
    "scW = widgets.Select(options=geo.keys())\n",
    "init = scW.value\n",
    "StateW = widgets.Select(options=geo[init])\n",
    "j = widgets.interactive(print_State, State=StateW)\n",
    "i = widgets.interactive(select_State, Source=scW)\n",
    "display(i)\n",
    "display(j)\n",
    "\n",
    "\n",
    "print('Draw your coastal bounds region of interest in your chosen State within next cell. Once drawing is complete, run the cell after to download your file. This may take a while as source files are large.')"
   ]
  },
  {
   "cell_type": "code",
   "execution_count": 9,
   "metadata": {},
   "outputs": [
    {
     "data": {
      "application/vnd.jupyter.widget-view+json": {
       "model_id": "12aa73e5550f4010939c5514f67c2595",
       "version_major": 2,
       "version_minor": 0
      },
      "text/plain": [
       "Map(center=[35, -75], controls=(ZoomControl(options=['position', 'zoom_in_text', 'zoom_in_title', 'zoom_out_te…"
      ]
     },
     "metadata": {},
     "output_type": "display_data"
    },
    {
     "name": "stdout",
     "output_type": "stream",
     "text": [
      "created\n",
      "{'type': 'Feature', 'properties': {'style': {'stroke': True, 'color': '#0000FF', 'weight': 4, 'opacity': 0.5, 'fill': True, 'fillColor': None, 'fillOpacity': 0.2, 'clickable': True}}, 'geometry': {'type': 'Polygon', 'coordinates': [[[-75.954157, 35.072192], [-75.954157, 35.175529], [-75.833282, 35.175529], [-75.833282, 35.072192], [-75.954157, 35.072192]]]}}\n"
     ]
    }
   ],
   "source": [
    "if StateW.value=='North Carolina':\n",
    "\n",
    "    #ROI name\n",
    "    roi=\"NorthCarolina\"\n",
    "    #Set buffer distance in decimal degreees\n",
    "    dist=0.01\n",
    "\n",
    "\n",
    "    watercolor = basemap_to_tiles(basemaps.Esri.WorldImagery, crs='espg:4326')\n",
    "\n",
    "    m = Map(layers=(watercolor, ), center=(35,-75 ), zoom=7.7)\n",
    "\n",
    "\n",
    "    dc = DrawControl(marker={'shapeOptions': {'color': '#0000FF'}},\n",
    "                     rectangle={'shapeOptions': {'color': '#0000FF'}},\n",
    "                     circle={'shapeOptions': {'color': '#0000FF'}},\n",
    "                     circlemarker={},\n",
    "                     )\n",
    "    def handle_draw(target, action, geo_json):\n",
    "        print(action)\n",
    "        print(geo_json)\n",
    "\n",
    "    dc.on_draw(handle_draw)\n",
    "    m.add_control(dc)\n",
    "    \n",
    "if StateW.value=='South Carolina':\n",
    "       #ROI name\n",
    "    roi=\"SouthCarolina\"\n",
    "    osm_roi='South Carolina, USA'\n",
    "    #Set buffer distance in decimal degreees\n",
    "    dist=0.01\n",
    "\n",
    "\n",
    "    watercolor = basemap_to_tiles(basemaps.Esri.WorldImagery, crs='espg:4326')\n",
    "\n",
    "    m = Map(layers=(watercolor, ), center=(33,-79 ), zoom=7.7)\n",
    "\n",
    "\n",
    "    dc = DrawControl(marker={'shapeOptions': {'color': '#0000FF'}},\n",
    "                     rectangle={'shapeOptions': {'color': '#0000FF'}},\n",
    "                     circle={'shapeOptions': {'color': '#0000FF'}},\n",
    "                     circlemarker={},\n",
    "                     )\n",
    "    def handle_draw(target, action, geo_json):\n",
    "        print(action)\n",
    "        print(geo_json)\n",
    "\n",
    "    dc.on_draw(handle_draw)\n",
    "    m.add_control(dc)\n",
    "    \n",
    "    \n",
    "m"
   ]
  },
  {
   "cell_type": "code",
   "execution_count": 12,
   "metadata": {},
   "outputs": [
    {
     "name": "stderr",
     "output_type": "stream",
     "text": [
      "/home/will/anaconda3/envs/MainImage/lib/python3.8/site-packages/ipykernel/ipkernel.py:287: DeprecationWarning: `should_run_async` will not call `transform_cell` automatically in the future. Please pass the result to `transformed_cell` argument and any exception that happen during thetransform in `preprocessing_exc_tuple` in IPython 7.17 and above.\n",
      "  and should_run_async(code)\n"
     ]
    },
    {
     "name": "stdout",
     "output_type": "stream",
     "text": [
      "Bounds shape created from drawing\n",
      "US coastline saved\n"
     ]
    },
    {
     "name": "stderr",
     "output_type": "stream",
     "text": [
      "<ipython-input-12-d00b05b9f964>:52: UserWarning: Geometry is in a geographic CRS. Results from 'buffer' are likely incorrect. Use 'GeoSeries.to_crs()' to re-project geometries to a projected CRS before this operation.\n",
      "\n",
      "  buffer=roi_coast.buffer(dist)\n"
     ]
    },
    {
     "name": "stdout",
     "output_type": "stream",
     "text": [
      "US Coastline buffered by 10km and clipped to bounds area\n",
      "OSM Building data clipped to coastal buffer roi and downloaded to folder\n"
     ]
    },
    {
     "name": "stderr",
     "output_type": "stream",
     "text": [
      "<ipython-input-12-d00b05b9f964>:73: UserWarning: CRS mismatch between the CRS of left geometries and the CRS of right geometries.\n",
      "Use `to_crs()` to reproject one of the input geometries to match the CRS of the other.\n",
      "\n",
      "Left CRS: None\n",
      "Right CRS: EPSG:4326\n",
      "\n",
      "  json_clipped = gpd.clip(osm_gpd, buffer)\n"
     ]
    }
   ],
   "source": [
    "if scW.value == 'MS Building Footprints':\n",
    "\n",
    "    bnds= (dc.last_draw).get(\"geometry\").get(\"coordinates\")[0]\n",
    "    bnds_poly=Polygon(bnds)\n",
    "    bounds_gpd=gpd.GeoDataFrame(geometry=[bnds_poly])\n",
    "    bounds_gpd=bounds_gpd.set_crs('EPSG:4326')\n",
    "\n",
    "    print(\"Bounds shape created from drawing\")\n",
    "\n",
    "    coast=gpd.read_file('https://geodata.lib.berkeley.edu/download/file/stanford-xv279yj9196-geojson.json')\n",
    "\n",
    "    print('US coastline saved')\n",
    "\n",
    "\n",
    "    #clip coastal polyline\n",
    "    roi_coast=gpd.clip(coast, bounds_gpd)\n",
    "    roi_coast=roi_coast.to_crs('EPSG:4326')\n",
    "    buffer=roi_coast.buffer(dist)\n",
    "\n",
    "    print('US Coastline buffered by 10km and clipped to bounds area')\n",
    "\n",
    "\n",
    "    foot_url='https://usbuildingdata.blob.core.windows.net/usbuildings-v2/'+roi+'.geojson.zip'\n",
    "    footfile= urlopen(foot_url).read()\n",
    "    footfile=BytesIO(footfile)\n",
    "    foot_doc=ZipFile(footfile)\n",
    "    foot_cont=foot_doc.open(roi+'.geojson')\n",
    "    foot_gpd=gpd.read_file(foot_cont)\n",
    "\n",
    "    print('MS data saved')\n",
    "\n",
    "    json_clipped = gpd.clip(foot_gpd, buffer)\n",
    "    json_clipped.to_file(out+roi+'Bldgs.geojson', driver='GeoJSON')\n",
    "\n",
    "    print('MS data clipped to coastal buffer roi and downloaded to folder')\n",
    "    \n",
    "if scW.value == 'Open Street Maps':\n",
    "    \n",
    "    bnds= (dc.last_draw).get(\"geometry\").get(\"coordinates\")[0]\n",
    "    bnds_poly=Polygon(bnds)\n",
    "    bounds_gpd=gpd.GeoDataFrame(geometry=[bnds_poly])\n",
    "    bounds_gpd=bounds_gpd.set_crs('EPSG:4326')\n",
    "\n",
    "    print(\"Bounds shape created from drawing\")\n",
    "\n",
    "    coast=gpd.read_file('https://geodata.lib.berkeley.edu/download/file/stanford-xv279yj9196-geojson.json')\n",
    "\n",
    "    print('US coastline saved')\n",
    "    #clip coastal polyline\n",
    "    roi_coast=gpd.clip(coast, bounds_gpd)\n",
    "    roi_coast=roi_coast.to_crs('EPSG:4326')\n",
    "    buffer=roi_coast.buffer(dist)\n",
    "    print('US Coastline buffered by 10km and clipped to bounds area')\n",
    "\n",
    "\n",
    "    tags = {\"building\": True}\n",
    "    north=bnds[1]\n",
    "    north=north[1]\n",
    "    south=bnds[0]\n",
    "    south=south[1]\n",
    "    west=bnds[0]\n",
    "    west=west[0]\n",
    "    east=bnds[2]\n",
    "    east=east[0]\n",
    "\n",
    "    gdf = ox.geometries_from_bbox(north, south, east, west, tags)\n",
    "    gdf_proj = ox.project_gdf(gdf)\n",
    "    # save as a geojson to your folder. Coordinate system set to EPSG 4326\n",
    "    osmgdf_save = gdf.applymap(lambda x: str(x) if isinstance(x, list) else x)\n",
    "    osmgdf_save.drop(labels=\"nodes\", axis=1)\n",
    "    osmgdf_save=osmgdf_save.drop(labels=\"nodes\", axis=1)\n",
    "    osm_gpd=gpd.GeoDataFrame(osmgdf_save)\n",
    "    json_clipped = gpd.clip(osm_gpd, buffer)\n",
    "    json_clipped.to_file(out+'/'+roi+'Bldgs.geojson', driver=\"GPKG\")\n",
    "\n",
    "\n",
    "    print('OSM Building data clipped to coastal buffer roi and downloaded to folder')"
   ]
  }
 ],
 "metadata": {
  "kernelspec": {
   "display_name": "Python 3",
   "language": "python",
   "name": "python3"
  },
  "language_info": {
   "codemirror_mode": {
    "name": "ipython",
    "version": 3
   },
   "file_extension": ".py",
   "mimetype": "text/x-python",
   "name": "python",
   "nbconvert_exporter": "python",
   "pygments_lexer": "ipython3",
   "version": "3.8.2"
  }
 },
 "nbformat": 4,
 "nbformat_minor": 4
}
